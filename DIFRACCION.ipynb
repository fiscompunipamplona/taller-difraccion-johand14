{
 "cells": [
  {
   "cell_type": "code",
   "execution_count": 1,
   "metadata": {},
   "outputs": [
    {
     "name": "stdout",
     "output_type": "stream",
     "text": [
      "Para x_1=  0 ; f(x_1)=  0.999999999999998\n",
      "Para x_1=  1 ; f(x_1)=  1.7645310198913005\n",
      "Para x_1=  2 ; f(x_1)=  1.9877551323658675\n",
      "Para x_1=  3 ; f(x_1)=  1.7270365107972707\n",
      "Para x_1=  4 ; f(x_1)=  1.3292200342667568\n",
      "Para x_1=  5 ; f(x_1)=  1.1509565962857504\n",
      "Para x_1=  6 ; f(x_1)=  1.3009351868700811\n",
      "Para x_1=  7 ; f(x_1)=  1.60034779072297\n",
      "Para x_1=  8 ; f(x_1)=  1.7713319311938565\n",
      "Para x_1=  9 ; f(x_1)=  1.6803316533443104\n",
      "Para x_1=  10 ; f(x_1)=  1.4337292222262925\n",
      "Para x_1=  11 ; f(x_1)=  1.2618722551524308\n",
      "Para x_1=  12 ; f(x_1)=  1.3088948992825982\n",
      "Para x_1=  13 ; f(x_1)=  1.5151543349929997\n",
      "Para x_1=  14 ; f(x_1)=  1.6855611444367926\n",
      "Para x_1=  15 ; f(x_1)=  1.6706700049433425\n",
      "Para x_1=  16 ; f(x_1)=  1.4951042642930465\n",
      "Para x_1=  17 ; f(x_1)=  1.3245833454751963\n",
      "Para x_1=  18 ; f(x_1)=  1.3105608730865466\n",
      "Para x_1=  19 ; f(x_1)=  1.456523646079532\n",
      "Para x_1=  20 ; f(x_1)=  1.6228816437534483\n"
     ]
    }
   ],
   "source": [
    "#PRACTICADIFRACCION\n",
    "from math import*\n",
    "from numpy import*\n",
    "tr = 1000\n",
    "a = 0\n",
    "b = pi\n",
    "h = (b-a)/tr\n",
    "\n",
    "def function_x_1_Z_1(tr,a,h):\n",
    "    x_1 = 0\n",
    "    X_2 = 0\n",
    "    n = 0\n",
    "    for i in range(0,21,1):\n",
    "        for j in range(1,int((tr/2)+1)):\n",
    "            Z_1 = a +(2*j-1)*h\n",
    "            y1 = (h/(3*pi))*(cos(n*Z_1-i*sin(Z_1)))\n",
    "            x_1 += y1\n",
    "        for k in range(1,int(((tr/2)-1)+1)):\n",
    "            Z_2 = a +(2*k*h)\n",
    "            y2 = (h/(3*pi))*(cos(n*Z_2-i*sin(Z_2)))\n",
    "            X_2 += y2\n",
    "        x_1m = 4*x_1+2*X_2\n",
    "        f_x_1 = (h/3)*(1/pi)*(cos(n*a-i*sin(a))+cos(n*b-i*sin(b)))+x_1m\n",
    "        print(\"Para x_1= \",i,\"; f(x_1)= \",f_x_1)\n",
    "\n",
    "function_x_1_Z_1(tr,a,h) "
   ]
  },
  {
   "cell_type": "code",
   "execution_count": null,
   "metadata": {},
   "outputs": [],
   "source": []
  }
 ],
 "metadata": {
  "kernelspec": {
   "display_name": "Python 3",
   "language": "python",
   "name": "python3"
  },
  "language_info": {
   "codemirror_mode": {
    "name": "ipython",
    "version": 3
   },
   "file_extension": ".py",
   "mimetype": "text/x-python",
   "name": "python",
   "nbconvert_exporter": "python",
   "pygments_lexer": "ipython3",
   "version": "3.7.3"
  }
 },
 "nbformat": 4,
 "nbformat_minor": 2
}
