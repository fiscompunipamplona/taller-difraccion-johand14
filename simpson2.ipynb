{
 "cells": [
  {
   "cell_type": "code",
   "execution_count": null,
   "metadata": {},
   "outputs": [],
   "source": [
    "#Importamos math\n",
    "from math import *\n",
    " \n",
    "#Definimos la funcion\n",
    "#@ n: numero de x\n",
    "#@ a y b los intervalos de la integral\n",
    "#@ f: La funcion a integrar\n",
    "def simpson13(n, a, b, f):\n",
    "    #calculamos h\n",
    "    h = (b - a) / n\n",
    "    #Inicializamos nuestra varible donde se almacenara las sumas\n",
    "    suma = 0.0\n",
    "    #hacemos un ciclo para ir sumando las areas\n",
    "    for i in range(1, n):\n",
    "        #calculamos la x\n",
    "        #x = a - h + (2 * h * i)\n",
    "        x = a + i * h\n",
    "        # si es par se multiplica por 4\n",
    "        if(i % 2 == 0):\n",
    "            suma = suma + 2 * fx(x, f)\n",
    "        #en caso contrario se multiplica por 2\n",
    "        else:\n",
    "            suma = suma + 4 * fx(x, f)\n",
    "    #sumamos los el primer elemento y el ultimo\n",
    "    suma = suma + fx(a, f) + fx(b, f)\n",
    "    #Multiplicamos por h/3\n",
    "    rest = suma * (h / 3)\n",
    "    #Retornamos el resultado\n",
    "    return (rest)\n",
    " \n",
    "#Funcion que nos ayuda a evaluar las funciones\n",
    "def fx(x, f):\n",
    "    return eval(f)\n",
    " \n",
    "#valores de ejemplo para la funcion sin(x) con intervalos de\n",
    "n = 100\n",
    "a = 0.0\n",
    "b = 2.0\n",
    "f = 'x**4-2*x+1'\n",
    " \n",
    "print(simpson13(n, a, b, f))"
   ]
  }
 ],
 "metadata": {
  "kernelspec": {
   "display_name": "Python 3",
   "language": "python",
   "name": "python3"
  },
  "language_info": {
   "codemirror_mode": {
    "name": "ipython",
    "version": 3
   },
   "file_extension": ".py",
   "mimetype": "text/x-python",
   "name": "python",
   "nbconvert_exporter": "python",
   "pygments_lexer": "ipython3",
   "version": "3.7.3"
  }
 },
 "nbformat": 4,
 "nbformat_minor": 2
}
