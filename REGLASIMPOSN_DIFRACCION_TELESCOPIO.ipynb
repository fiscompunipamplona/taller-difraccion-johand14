{
 "cells": [
  {
   "cell_type": "code",
   "execution_count": 1,
   "metadata": {},
   "outputs": [
    {
     "name": "stdout",
     "output_type": "stream",
     "text": [
      "4.308799936000001\n"
     ]
    }
   ],
   "source": [
    "#Importamos math\n",
    "from math import *\n",
    " \n",
    "#Definimos la funcion\n",
    "#@ n: numero de x\n",
    "#@ a y b los intervalos de la integral\n",
    "#@ f: La funcion a integrar\n",
    "def simpson13(n, a, b, f):\n",
    "    #calculamos h\n",
    "    h = (b - a) / n\n",
    "    #Inicializamos nuestra varible donde se almacenara las sumas\n",
    "    suma = 0.0\n",
    "    #hacemos un ciclo para ir sumando las areas\n",
    "    for i in range(1, n):\n",
    "        #calculamos la x\n",
    "        #x = a - h + (2 * h * i)\n",
    "        x = a + i * h\n",
    "        # si es par se multiplica por 4\n",
    "        if(i % 2 == 0):\n",
    "            suma = suma + 4 * fx(x, f)\n",
    "        #en caso contrario se multiplica por 2\n",
    "        else:\n",
    "            suma = suma + 2 * fx(x, f)\n",
    "    #sumamos los el primer elemento y el ultimo\n",
    "    suma = suma + fx(a, f) + fx(b, f)\n",
    "    #Multiplicamos por h/3\n",
    "    rest = suma * (h / 3)\n",
    "    #Retornamos el resultado\n",
    "    return (rest)\n",
    " \n",
    "#Funcion que nos ayuda a evaluar las funciones\n",
    "def fx(x, f):\n",
    "    return eval(f)\n",
    " \n",
    "#valores de ejemplo para la funcion sin(x) con intervalos de\n",
    "n = 100\n",
    "a = 0.0\n",
    "b = 2.0\n",
    "f = 'x**4-2*x+1'\n",
    " \n",
    "print(simpson13(n, a, b, f))\n",
    "\n",
    "#Diego Alejandro Palacios\n",
    "#Johan D Mantilla C\n",
    "\n",
    "\n",
    "#el error para el metodo del trapecio es de 5.636%\n",
    "#el error para el metodo de simpson es de 2.09%"
   ]
  },
  {
   "cell_type": "code",
   "execution_count": 2,
   "metadata": {},
   "outputs": [
    {
     "name": "stdout",
     "output_type": "stream",
     "text": [
      "ingrese valor de n: 100\n",
      "la integral por trapecio es:  4.1528759328\n"
     ]
    }
   ],
   "source": [
    "# Integración: Regla de los trapecios\n",
    "import numpy as np\n",
    "import matplotlib.pyplot as plt\n",
    "\n",
    "n=float(input(\"ingrese valor de n: \"))\n",
    "j=int(n)\n",
    "I=0\n",
    "a=0\n",
    "b=2\n",
    "h=(b-a)/j\n",
    "for f in range(1,j-1):\n",
    "    p=((a+f*h)**4)-(2*(a+f*h))+1\n",
    "    I=I+p*h\n",
    "l=h*(0.5*(((a)**4)-2*(a)+1)+0.5*(((b)**4)-2*(b)+1))+I\n",
    "print(\"la integral por trapecio es: \", l)"
   ]
  },
  {
   "cell_type": "code",
   "execution_count": 2,
   "metadata": {},
   "outputs": [
    {
     "name": "stdout",
     "output_type": "stream",
     "text": [
      "Para X=  0 ; f(x)=  0.999999999999998\n",
      "Para X=  1 ; f(x)=  1.7645310198913005\n",
      "Para X=  2 ; f(x)=  1.9877551323658675\n",
      "Para X=  3 ; f(x)=  1.7270365107972707\n",
      "Para X=  4 ; f(x)=  1.3292200342667568\n",
      "Para X=  5 ; f(x)=  1.1509565962857504\n",
      "Para X=  6 ; f(x)=  1.3009351868700811\n",
      "Para X=  7 ; f(x)=  1.60034779072297\n",
      "Para X=  8 ; f(x)=  1.7713319311938565\n",
      "Para X=  9 ; f(x)=  1.6803316533443104\n",
      "Para X=  10 ; f(x)=  1.4337292222262925\n",
      "Para X=  11 ; f(x)=  1.2618722551524308\n",
      "Para X=  12 ; f(x)=  1.3088948992825982\n",
      "Para X=  13 ; f(x)=  1.5151543349929997\n",
      "Para X=  14 ; f(x)=  1.6855611444367926\n",
      "Para X=  15 ; f(x)=  1.6706700049433425\n",
      "Para X=  16 ; f(x)=  1.4951042642930465\n",
      "Para X=  17 ; f(x)=  1.3245833454751963\n",
      "Para X=  18 ; f(x)=  1.3105608730865466\n",
      "Para X=  19 ; f(x)=  1.456523646079532\n",
      "Para X=  20 ; f(x)=  1.6228816437534483\n"
     ]
    }
   ],
   "source": [
    "#DIFRACCIÓN DE TELESCOPIO POR TRAMOS\n",
    "from math import*\n",
    "from numpy import*\n",
    "tramos = 1000\n",
    "a = 0\n",
    "b = pi\n",
    "h = (b-a)/tramos\n",
    "\n",
    "def function_x_zita(tramos,a,h):\n",
    "    x = 0\n",
    "    x2 = 0\n",
    "    n = 0\n",
    "    for i in range(0,21,1):\n",
    "        for j in range(1,int((tramos/2)+1)):\n",
    "            zita = a +(2*j-1)*h\n",
    "            y1 = (h/(3*pi))*(cos(n*zita-i*sin(zita)))\n",
    "            x += y1\n",
    "        for k in range(1,int(((tramos/2)-1)+1)):\n",
    "            zita2 = a +(2*k*h)\n",
    "            y2 = (h/(3*pi))*(cos(n*zita2-i*sin(zita2)))\n",
    "            x2 += y2\n",
    "        xm = 4*x+2*x2\n",
    "        f_x = (h/3)*(1/pi)*(cos(n*a-i*sin(a))+cos(n*b-i*sin(b)))+xm\n",
    "        print(\"Para X= \",i,\"; f(x)= \",f_x)\n",
    "\n",
    "function_x_zita(tramos,a,h)"
   ]
  },
  {
   "cell_type": "code",
   "execution_count": null,
   "metadata": {},
   "outputs": [],
   "source": []
  }
 ],
 "metadata": {
  "kernelspec": {
   "display_name": "Python 3",
   "language": "python",
   "name": "python3"
  },
  "language_info": {
   "codemirror_mode": {
    "name": "ipython",
    "version": 3
   },
   "file_extension": ".py",
   "mimetype": "text/x-python",
   "name": "python",
   "nbconvert_exporter": "python",
   "pygments_lexer": "ipython3",
   "version": "3.7.3"
  }
 },
 "nbformat": 4,
 "nbformat_minor": 2
}
